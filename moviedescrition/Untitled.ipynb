{
 "cells": [
  {
   "cell_type": "code",
   "execution_count": 1,
   "id": "6b53ae2e",
   "metadata": {},
   "outputs": [
    {
     "data": {
      "text/html": [
       "<div>\n",
       "<style scoped>\n",
       "    .dataframe tbody tr th:only-of-type {\n",
       "        vertical-align: middle;\n",
       "    }\n",
       "\n",
       "    .dataframe tbody tr th {\n",
       "        vertical-align: top;\n",
       "    }\n",
       "\n",
       "    .dataframe thead th {\n",
       "        text-align: right;\n",
       "    }\n",
       "</style>\n",
       "<table border=\"1\" class=\"dataframe\">\n",
       "  <thead>\n",
       "    <tr style=\"text-align: right;\">\n",
       "      <th></th>\n",
       "      <th>description</th>\n",
       "      <th>total_amount</th>\n",
       "    </tr>\n",
       "  </thead>\n",
       "  <tbody>\n",
       "    <tr>\n",
       "      <th>0</th>\n",
       "      <td>A Fateful Yarn of a Husband And a Dog who must...</td>\n",
       "      <td>215.75</td>\n",
       "    </tr>\n",
       "    <tr>\n",
       "      <th>1</th>\n",
       "      <td>A Intrepid Panorama of a Mad Scientist And a B...</td>\n",
       "      <td>199.72</td>\n",
       "    </tr>\n",
       "    <tr>\n",
       "      <th>2</th>\n",
       "      <td>A Awe-Inspiring Epistle of a Teacher And a Fem...</td>\n",
       "      <td>198.73</td>\n",
       "    </tr>\n",
       "  </tbody>\n",
       "</table>\n",
       "</div>"
      ],
      "text/plain": [
       "                                         description  total_amount\n",
       "0  A Fateful Yarn of a Husband And a Dog who must...        215.75\n",
       "1  A Intrepid Panorama of a Mad Scientist And a B...        199.72\n",
       "2  A Awe-Inspiring Epistle of a Teacher And a Fem...        198.73"
      ]
     },
     "execution_count": 1,
     "metadata": {},
     "output_type": "execute_result"
    }
   ],
   "source": [
    "import pandas as pd\n",
    "import matplotlib.pyplot as plt\n",
    "%matplotlib inline  \n",
    "import nltk\n",
    "from nltk import word_tokenize, sent_tokenize\n",
    "from nltk.corpus import stopwords\n",
    "from nltk.stem import LancasterStemmer, WordNetLemmatizer, PorterStemmer\n",
    "from wordcloud import WordCloud, STOPWORDS\n",
    "from textblob import TextBlob\n",
    "df = pd.read_csv('data-1691976821292.csv')\n",
    "df.head(3)"
   ]
  },
  {
   "cell_type": "code",
   "execution_count": 12,
   "id": "6c6be4b6",
   "metadata": {},
   "outputs": [],
   "source": [
    "def sentiment_detection(sentence):\n",
    "  positive = False\n",
    "  negative = False\n",
    "  for i in ('Happy', 'Fateful', 'Positive','Inspiring','Thoughtful','Wonderful'):\n",
    "    if sentence.count(i) > 0:\n",
    "      positive = True\n",
    "  for i in ('Sad','Unbelieveable','Emotional','Mad','Epic'):\n",
    "    if sentence.count(i) > 0:\n",
    "      negative = True\n",
    "  if positive == negative == False:\n",
    "    return \"neutral\"\n",
    "  elif positive == True != negative:\n",
    "    return \"positive\"\n",
    "  elif negative == True != positive:\n",
    "    return 'negative'\n",
    "  else:\n",
    "    return \"mixed\""
   ]
  },
  {
   "cell_type": "code",
   "execution_count": 13,
   "id": "a1864f0c",
   "metadata": {},
   "outputs": [
    {
     "data": {
      "text/plain": [
       "'negative'"
      ]
     },
     "execution_count": 13,
     "metadata": {},
     "output_type": "execute_result"
    }
   ],
   "source": [
    "sentiment_detection('A Emotional Display of a Crocodile And a Husband who must Reach a Man in Ancient Japan')"
   ]
  },
  {
   "cell_type": "code",
   "execution_count": 14,
   "id": "355b56df",
   "metadata": {},
   "outputs": [
    {
     "data": {
      "text/plain": [
       "'positive'"
      ]
     },
     "execution_count": 14,
     "metadata": {},
     "output_type": "execute_result"
    }
   ],
   "source": [
    "sentiment_detection('A Fateful Yarn of a Husband And a Dog who must Battle a Waitress in A Jet Boat')"
   ]
  },
  {
   "cell_type": "code",
   "execution_count": 15,
   "id": "2d6743d4",
   "metadata": {},
   "outputs": [
    {
     "data": {
      "text/plain": [
       "'mixed'"
      ]
     },
     "execution_count": 15,
     "metadata": {},
     "output_type": "execute_result"
    }
   ],
   "source": [
    "sentiment_detection('A Thoughtful Reflection of a Mad Scientist And a Moose who must Kill a Husband in A Baloon')"
   ]
  },
  {
   "cell_type": "code",
   "execution_count": null,
   "id": "c7427ea9",
   "metadata": {},
   "outputs": [],
   "source": []
  },
  {
   "cell_type": "code",
   "execution_count": null,
   "id": "57fe6bf5",
   "metadata": {},
   "outputs": [],
   "source": []
  }
 ],
 "metadata": {
  "kernelspec": {
   "display_name": "Python 3 (ipykernel)",
   "language": "python",
   "name": "python3"
  },
  "language_info": {
   "codemirror_mode": {
    "name": "ipython",
    "version": 3
   },
   "file_extension": ".py",
   "mimetype": "text/x-python",
   "name": "python",
   "nbconvert_exporter": "python",
   "pygments_lexer": "ipython3",
   "version": "3.11.4"
  }
 },
 "nbformat": 4,
 "nbformat_minor": 5
}
