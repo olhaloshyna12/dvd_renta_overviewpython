{
 "cells": [
  {
   "cell_type": "code",
   "execution_count": 1,
   "id": "a5f068a7",
   "metadata": {},
   "outputs": [],
   "source": [
    "import pandas as pd\n"
   ]
  },
  {
   "cell_type": "code",
   "execution_count": 2,
   "id": "e0ac2a53",
   "metadata": {},
   "outputs": [],
   "source": [
    "df = pd.read_csv('data-1691955614049.csv')"
   ]
  },
  {
   "cell_type": "code",
   "execution_count": 6,
   "id": "15ddf185",
   "metadata": {},
   "outputs": [
    {
     "name": "stdout",
     "output_type": "stream",
     "text": [
      "DataFrame 1:\n",
      "     total_rental_duration\n",
      "0                    7757\n",
      "1                    7000\n",
      "2                    4747\n",
      "3                    4030\n",
      "4                    3956\n",
      "5                    3649\n",
      "6                    3558\n",
      "7                    2822\n",
      "8                    1886\n",
      "9                    1777\n",
      "10                   1775\n",
      "11                   1744\n",
      "12                   1546\n",
      "13                   1423\n",
      "14                   1124\n",
      "DataFrame 2:\n",
      "                country  total_rental_duration\n",
      "0                India                   7757\n",
      "1                China                   7000\n",
      "2        United States                   4747\n",
      "3                Japan                   4030\n",
      "4               Mexico                   3956\n",
      "5               Brazil                   3649\n",
      "6   Russian Federation                   3558\n",
      "7          Philippines                   2822\n",
      "8               Turkey                   1886\n",
      "9            Indonesia                   1777\n",
      "10           Argentina                   1775\n",
      "11             Nigeria                   1744\n",
      "12              Taiwan                   1546\n",
      "13        South Africa                   1423\n",
      "14                Iran                   1124\n",
      "Result:\n",
      "     total_rental_duration             country\n",
      "0                    7757               India\n",
      "1                    7000               China\n",
      "2                    4747       United States\n",
      "3                    4030               Japan\n",
      "4                    3956              Mexico\n",
      "5                    3649              Brazil\n",
      "6                    3558  Russian Federation\n",
      "7                    2822         Philippines\n",
      "8                    1886              Turkey\n",
      "9                    1777           Indonesia\n",
      "10                   1775           Argentina\n",
      "11                   1744             Nigeria\n",
      "12                   1546              Taiwan\n",
      "13                   1423        South Africa\n",
      "14                   1124                Iran\n"
     ]
    }
   ],
   "source": [
    "\n",
    "d1 = {'total_rental_duration': [7757 ,7000, 4747, 4030, 3956, 3649, 3558, 2822, 1886, 1777, 1775, 1744, 1546, 1423, 1124]}\n",
    "\n",
    "df1 = pd.DataFrame(d1)\n",
    "\n",
    "print('DataFrame 1:\\n', df1)\n",
    "\n",
    "df2 = pd.DataFrame({'country': [\"India\", \"China\", \"United States\", \"Japan\", \"Mexico\", \"Brazil\", \"Russian Federation\", \"Philippines\", \"Turkey\", \"Indonesia\", \"Argentina\", \"Nigeria\", \"Taiwan\", \"South Africa\", \"Iran\"], 'total_rental_duration': [7757 ,7000, 4747, 4030, 3956, 3649, 3558, 2822, 1886, 1777, 1775, 1744, 1546, 1423, 1124]})\n",
    "print('DataFrame 2:\\n', df2)\n",
    "\n",
    "df_merged = df1.merge(df2)\n",
    "print('Result:\\n', df_merged)"
   ]
  },
  {
   "cell_type": "code",
   "execution_count": null,
   "id": "1a2f2340",
   "metadata": {},
   "outputs": [],
   "source": []
  }
 ],
 "metadata": {
  "kernelspec": {
   "display_name": "Python 3 (ipykernel)",
   "language": "python",
   "name": "python3"
  },
  "language_info": {
   "codemirror_mode": {
    "name": "ipython",
    "version": 3
   },
   "file_extension": ".py",
   "mimetype": "text/x-python",
   "name": "python",
   "nbconvert_exporter": "python",
   "pygments_lexer": "ipython3",
   "version": "3.11.4"
  }
 },
 "nbformat": 4,
 "nbformat_minor": 5
}
